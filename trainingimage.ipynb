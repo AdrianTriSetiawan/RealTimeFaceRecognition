{
 "cells": [
  {
   "cell_type": "markdown",
   "metadata": {},
   "source": [
    "Training model dataset FER-2013"
   ]
  },
  {
   "cell_type": "code",
   "execution_count": 3,
   "metadata": {},
   "outputs": [
    {
     "name": "stdout",
     "output_type": "stream",
     "text": [
      "Requirement already satisfied: numpy in c:\\users\\adrian\\anaconda3\\lib\\site-packages (1.24.3)\n",
      "Collecting opencv-python\n",
      "  Obtaining dependency information for opencv-python from https://files.pythonhosted.org/packages/ec/6c/fab8113424af5049f85717e8e527ca3773299a3c6b02506e66436e19874f/opencv_python-4.10.0.84-cp37-abi3-win_amd64.whl.metadata\n",
      "  Downloading opencv_python-4.10.0.84-cp37-abi3-win_amd64.whl.metadata (20 kB)\n",
      "Requirement already satisfied: keras in c:\\users\\adrian\\anaconda3\\lib\\site-packages (3.5.0)\n",
      "Requirement already satisfied: tensorflow in c:\\users\\adrian\\anaconda3\\lib\\site-packages (2.17.0)\n",
      "Requirement already satisfied: pillow in c:\\users\\adrian\\anaconda3\\lib\\site-packages (9.4.0)\n",
      "Requirement already satisfied: absl-py in c:\\users\\adrian\\anaconda3\\lib\\site-packages (from keras) (2.1.0)\n",
      "Requirement already satisfied: rich in c:\\users\\adrian\\anaconda3\\lib\\site-packages (from keras) (13.8.1)\n",
      "Requirement already satisfied: namex in c:\\users\\adrian\\anaconda3\\lib\\site-packages (from keras) (0.0.8)\n",
      "Requirement already satisfied: h5py in c:\\users\\adrian\\anaconda3\\lib\\site-packages (from keras) (3.12.1)\n",
      "Requirement already satisfied: optree in c:\\users\\adrian\\anaconda3\\lib\\site-packages (from keras) (0.12.1)\n",
      "Requirement already satisfied: ml-dtypes in c:\\users\\adrian\\anaconda3\\lib\\site-packages (from keras) (0.4.1)\n",
      "Requirement already satisfied: packaging in c:\\users\\adrian\\anaconda3\\lib\\site-packages (from keras) (23.1)\n",
      "Requirement already satisfied: tensorflow-intel==2.17.0 in c:\\users\\adrian\\anaconda3\\lib\\site-packages (from tensorflow) (2.17.0)\n",
      "Requirement already satisfied: astunparse>=1.6.0 in c:\\users\\adrian\\anaconda3\\lib\\site-packages (from tensorflow-intel==2.17.0->tensorflow) (1.6.3)\n",
      "Requirement already satisfied: flatbuffers>=24.3.25 in c:\\users\\adrian\\anaconda3\\lib\\site-packages (from tensorflow-intel==2.17.0->tensorflow) (24.3.25)\n",
      "Requirement already satisfied: gast!=0.5.0,!=0.5.1,!=0.5.2,>=0.2.1 in c:\\users\\adrian\\anaconda3\\lib\\site-packages (from tensorflow-intel==2.17.0->tensorflow) (0.6.0)\n",
      "Requirement already satisfied: google-pasta>=0.1.1 in c:\\users\\adrian\\anaconda3\\lib\\site-packages (from tensorflow-intel==2.17.0->tensorflow) (0.2.0)\n",
      "Requirement already satisfied: libclang>=13.0.0 in c:\\users\\adrian\\anaconda3\\lib\\site-packages (from tensorflow-intel==2.17.0->tensorflow) (18.1.1)\n",
      "Requirement already satisfied: opt-einsum>=2.3.2 in c:\\users\\adrian\\anaconda3\\lib\\site-packages (from tensorflow-intel==2.17.0->tensorflow) (3.4.0)\n",
      "Requirement already satisfied: protobuf!=4.21.0,!=4.21.1,!=4.21.2,!=4.21.3,!=4.21.4,!=4.21.5,<5.0.0dev,>=3.20.3 in c:\\users\\adrian\\anaconda3\\lib\\site-packages (from tensorflow-intel==2.17.0->tensorflow) (4.25.5)\n",
      "Requirement already satisfied: requests<3,>=2.21.0 in c:\\users\\adrian\\anaconda3\\lib\\site-packages (from tensorflow-intel==2.17.0->tensorflow) (2.31.0)\n",
      "Requirement already satisfied: setuptools in c:\\users\\adrian\\anaconda3\\lib\\site-packages (from tensorflow-intel==2.17.0->tensorflow) (68.0.0)\n",
      "Requirement already satisfied: six>=1.12.0 in c:\\users\\adrian\\anaconda3\\lib\\site-packages (from tensorflow-intel==2.17.0->tensorflow) (1.16.0)\n",
      "Requirement already satisfied: termcolor>=1.1.0 in c:\\users\\adrian\\anaconda3\\lib\\site-packages (from tensorflow-intel==2.17.0->tensorflow) (2.4.0)\n",
      "Requirement already satisfied: typing-extensions>=3.6.6 in c:\\users\\adrian\\anaconda3\\lib\\site-packages (from tensorflow-intel==2.17.0->tensorflow) (4.7.1)\n",
      "Requirement already satisfied: wrapt>=1.11.0 in c:\\users\\adrian\\anaconda3\\lib\\site-packages (from tensorflow-intel==2.17.0->tensorflow) (1.14.1)\n",
      "Requirement already satisfied: grpcio<2.0,>=1.24.3 in c:\\users\\adrian\\anaconda3\\lib\\site-packages (from tensorflow-intel==2.17.0->tensorflow) (1.66.2)\n",
      "Requirement already satisfied: tensorboard<2.18,>=2.17 in c:\\users\\adrian\\anaconda3\\lib\\site-packages (from tensorflow-intel==2.17.0->tensorflow) (2.17.1)\n",
      "Requirement already satisfied: tensorflow-io-gcs-filesystem>=0.23.1 in c:\\users\\adrian\\anaconda3\\lib\\site-packages (from tensorflow-intel==2.17.0->tensorflow) (0.31.0)\n",
      "Requirement already satisfied: markdown-it-py>=2.2.0 in c:\\users\\adrian\\anaconda3\\lib\\site-packages (from rich->keras) (2.2.0)\n",
      "Requirement already satisfied: pygments<3.0.0,>=2.13.0 in c:\\users\\adrian\\anaconda3\\lib\\site-packages (from rich->keras) (2.15.1)\n",
      "Requirement already satisfied: wheel<1.0,>=0.23.0 in c:\\users\\adrian\\anaconda3\\lib\\site-packages (from astunparse>=1.6.0->tensorflow-intel==2.17.0->tensorflow) (0.38.4)\n",
      "Requirement already satisfied: mdurl~=0.1 in c:\\users\\adrian\\anaconda3\\lib\\site-packages (from markdown-it-py>=2.2.0->rich->keras) (0.1.0)\n",
      "Requirement already satisfied: charset-normalizer<4,>=2 in c:\\users\\adrian\\anaconda3\\lib\\site-packages (from requests<3,>=2.21.0->tensorflow-intel==2.17.0->tensorflow) (2.0.4)\n",
      "Requirement already satisfied: idna<4,>=2.5 in c:\\users\\adrian\\anaconda3\\lib\\site-packages (from requests<3,>=2.21.0->tensorflow-intel==2.17.0->tensorflow) (3.4)\n",
      "Requirement already satisfied: urllib3<3,>=1.21.1 in c:\\users\\adrian\\anaconda3\\lib\\site-packages (from requests<3,>=2.21.0->tensorflow-intel==2.17.0->tensorflow) (1.26.16)\n",
      "Requirement already satisfied: certifi>=2017.4.17 in c:\\users\\adrian\\anaconda3\\lib\\site-packages (from requests<3,>=2.21.0->tensorflow-intel==2.17.0->tensorflow) (2023.7.22)\n",
      "Requirement already satisfied: markdown>=2.6.8 in c:\\users\\adrian\\anaconda3\\lib\\site-packages (from tensorboard<2.18,>=2.17->tensorflow-intel==2.17.0->tensorflow) (3.4.1)\n",
      "Requirement already satisfied: tensorboard-data-server<0.8.0,>=0.7.0 in c:\\users\\adrian\\anaconda3\\lib\\site-packages (from tensorboard<2.18,>=2.17->tensorflow-intel==2.17.0->tensorflow) (0.7.2)\n",
      "Requirement already satisfied: werkzeug>=1.0.1 in c:\\users\\adrian\\anaconda3\\lib\\site-packages (from tensorboard<2.18,>=2.17->tensorflow-intel==2.17.0->tensorflow) (2.2.3)\n",
      "Requirement already satisfied: MarkupSafe>=2.1.1 in c:\\users\\adrian\\anaconda3\\lib\\site-packages (from werkzeug>=1.0.1->tensorboard<2.18,>=2.17->tensorflow-intel==2.17.0->tensorflow) (2.1.1)\n",
      "Downloading opencv_python-4.10.0.84-cp37-abi3-win_amd64.whl (38.8 MB)\n",
      "   ---------------------------------------- 0.0/38.8 MB ? eta -:--:--\n",
      "   ---------------------------------------- 0.1/38.8 MB 1.7 MB/s eta 0:00:24\n",
      "    --------------------------------------- 0.5/38.8 MB 6.2 MB/s eta 0:00:07\n",
      "   - -------------------------------------- 1.1/38.8 MB 8.4 MB/s eta 0:00:05\n",
      "   - -------------------------------------- 1.6/38.8 MB 9.3 MB/s eta 0:00:05\n",
      "   -- ------------------------------------- 2.1/38.8 MB 9.7 MB/s eta 0:00:04\n",
      "   -- ------------------------------------- 2.7/38.8 MB 10.0 MB/s eta 0:00:04\n",
      "   --- ------------------------------------ 3.2/38.8 MB 10.3 MB/s eta 0:00:04\n",
      "   --- ------------------------------------ 3.8/38.8 MB 10.5 MB/s eta 0:00:04\n",
      "   ---- ----------------------------------- 4.3/38.8 MB 10.6 MB/s eta 0:00:04\n",
      "   ---- ----------------------------------- 4.8/38.8 MB 11.0 MB/s eta 0:00:04\n",
      "   ----- ---------------------------------- 5.3/38.8 MB 10.9 MB/s eta 0:00:04\n",
      "   ----- ---------------------------------- 5.8/38.8 MB 10.8 MB/s eta 0:00:04\n",
      "   ------ --------------------------------- 6.3/38.8 MB 10.9 MB/s eta 0:00:03\n",
      "   ------- -------------------------------- 6.9/38.8 MB 10.7 MB/s eta 0:00:03\n",
      "   ------- -------------------------------- 7.4/38.8 MB 11.0 MB/s eta 0:00:03\n",
      "   -------- ------------------------------- 7.9/38.8 MB 11.0 MB/s eta 0:00:03\n",
      "   -------- ------------------------------- 8.5/38.8 MB 11.1 MB/s eta 0:00:03\n",
      "   --------- ------------------------------ 9.1/38.8 MB 11.1 MB/s eta 0:00:03\n",
      "   --------- ------------------------------ 9.6/38.8 MB 11.2 MB/s eta 0:00:03\n",
      "   ---------- ----------------------------- 10.2/38.8 MB 11.2 MB/s eta 0:00:03\n",
      "   ----------- ---------------------------- 10.7/38.8 MB 11.7 MB/s eta 0:00:03\n",
      "   ----------- ---------------------------- 11.3/38.8 MB 11.7 MB/s eta 0:00:03\n",
      "   ------------ --------------------------- 11.8/38.8 MB 11.7 MB/s eta 0:00:03\n",
      "   ------------ --------------------------- 12.4/38.8 MB 11.7 MB/s eta 0:00:03\n",
      "   ------------- -------------------------- 12.9/38.8 MB 11.7 MB/s eta 0:00:03\n",
      "   ------------- -------------------------- 13.5/38.8 MB 11.7 MB/s eta 0:00:03\n",
      "   -------------- ------------------------- 14.0/38.8 MB 11.7 MB/s eta 0:00:03\n",
      "   -------------- ------------------------- 14.6/38.8 MB 11.7 MB/s eta 0:00:03\n",
      "   --------------- ------------------------ 15.1/38.8 MB 11.7 MB/s eta 0:00:03\n",
      "   ---------------- ----------------------- 15.7/38.8 MB 11.9 MB/s eta 0:00:02\n",
      "   ---------------- ----------------------- 16.2/38.8 MB 11.9 MB/s eta 0:00:02\n",
      "   ----------------- ---------------------- 16.8/38.8 MB 11.9 MB/s eta 0:00:02\n",
      "   ----------------- ---------------------- 17.3/38.8 MB 11.9 MB/s eta 0:00:02\n",
      "   ------------------ --------------------- 17.9/38.8 MB 11.9 MB/s eta 0:00:02\n",
      "   ------------------ --------------------- 18.4/38.8 MB 11.9 MB/s eta 0:00:02\n",
      "   ------------------- -------------------- 19.0/38.8 MB 11.9 MB/s eta 0:00:02\n",
      "   -------------------- ------------------- 19.5/38.8 MB 11.9 MB/s eta 0:00:02\n",
      "   -------------------- ------------------- 20.0/38.8 MB 11.7 MB/s eta 0:00:02\n",
      "   --------------------- ------------------ 20.6/38.8 MB 11.9 MB/s eta 0:00:02\n",
      "   --------------------- ------------------ 21.2/38.8 MB 11.9 MB/s eta 0:00:02\n",
      "   ---------------------- ----------------- 21.7/38.8 MB 11.9 MB/s eta 0:00:02\n",
      "   ---------------------- ----------------- 22.3/38.8 MB 11.9 MB/s eta 0:00:02\n",
      "   ----------------------- ---------------- 22.8/38.8 MB 11.7 MB/s eta 0:00:02\n",
      "   ------------------------ --------------- 23.4/38.8 MB 11.7 MB/s eta 0:00:02\n",
      "   ------------------------ --------------- 23.9/38.8 MB 11.7 MB/s eta 0:00:02\n",
      "   ------------------------- -------------- 24.5/38.8 MB 11.9 MB/s eta 0:00:02\n",
      "   ------------------------- -------------- 25.0/38.8 MB 11.9 MB/s eta 0:00:02\n",
      "   -------------------------- ------------- 25.6/38.8 MB 11.9 MB/s eta 0:00:02\n",
      "   -------------------------- ------------- 26.1/38.8 MB 11.7 MB/s eta 0:00:02\n",
      "   --------------------------- ------------ 26.6/38.8 MB 11.7 MB/s eta 0:00:02\n",
      "   --------------------------- ------------ 27.1/38.8 MB 11.5 MB/s eta 0:00:02\n",
      "   ---------------------------- ----------- 27.5/38.8 MB 11.5 MB/s eta 0:00:01\n",
      "   ---------------------------- ----------- 27.9/38.8 MB 11.3 MB/s eta 0:00:01\n",
      "   ----------------------------- ---------- 28.5/38.8 MB 11.3 MB/s eta 0:00:01\n",
      "   ----------------------------- ---------- 29.0/38.8 MB 11.3 MB/s eta 0:00:01\n",
      "   ------------------------------ --------- 29.6/38.8 MB 11.3 MB/s eta 0:00:01\n",
      "   ------------------------------- -------- 30.1/38.8 MB 11.3 MB/s eta 0:00:01\n",
      "   ------------------------------- -------- 30.7/38.8 MB 11.3 MB/s eta 0:00:01\n",
      "   -------------------------------- ------- 31.2/38.8 MB 11.3 MB/s eta 0:00:01\n",
      "   -------------------------------- ------- 31.8/38.8 MB 11.3 MB/s eta 0:00:01\n",
      "   --------------------------------- ------ 32.4/38.8 MB 11.3 MB/s eta 0:00:01\n",
      "   --------------------------------- ------ 32.9/38.8 MB 11.3 MB/s eta 0:00:01\n",
      "   ---------------------------------- ----- 33.5/38.8 MB 11.3 MB/s eta 0:00:01\n",
      "   ----------------------------------- ---- 34.0/38.8 MB 11.3 MB/s eta 0:00:01\n",
      "   ----------------------------------- ---- 34.6/38.8 MB 11.3 MB/s eta 0:00:01\n",
      "   ------------------------------------ --- 35.1/38.8 MB 11.3 MB/s eta 0:00:01\n",
      "   ------------------------------------ --- 35.7/38.8 MB 11.3 MB/s eta 0:00:01\n",
      "   ------------------------------------- -- 36.2/38.8 MB 11.5 MB/s eta 0:00:01\n",
      "   ------------------------------------- -- 36.7/38.8 MB 11.5 MB/s eta 0:00:01\n",
      "   -------------------------------------- - 37.3/38.8 MB 11.5 MB/s eta 0:00:01\n",
      "   -------------------------------------- - 37.9/38.8 MB 11.9 MB/s eta 0:00:01\n",
      "   ---------------------------------------  38.4/38.8 MB 11.9 MB/s eta 0:00:01\n",
      "   ---------------------------------------  38.8/38.8 MB 11.7 MB/s eta 0:00:01\n",
      "   ---------------------------------------  38.8/38.8 MB 11.7 MB/s eta 0:00:01\n",
      "   ---------------------------------------  38.8/38.8 MB 11.7 MB/s eta 0:00:01\n",
      "   ---------------------------------------- 38.8/38.8 MB 10.2 MB/s eta 0:00:00\n",
      "Installing collected packages: opencv-python\n",
      "Successfully installed opencv-python-4.10.0.84\n",
      "Note: you may need to restart the kernel to use updated packages.\n"
     ]
    }
   ],
   "source": [
    "pip install numpy opencv-python keras tensorflow pillow"
   ]
  },
  {
   "cell_type": "code",
   "execution_count": 6,
   "metadata": {},
   "outputs": [],
   "source": [
    "# Import packages for the project\n",
    "import cv2\n",
    "from keras.models import Sequential\n",
    "from keras.layers import Conv2D, MaxPooling2D, Dense, Dropout, Flatten\n",
    "from keras.optimizers import Adam\n",
    "from tensorflow.keras.preprocessing.image import ImageDataGenerator"
   ]
  },
  {
   "cell_type": "code",
   "execution_count": 7,
   "metadata": {},
   "outputs": [],
   "source": [
    "# Initialize image data generator with rescaling\n",
    "train_data_gen = ImageDataGenerator(rescale=1./255)\n",
    "validation_data_gen = ImageDataGenerator(rescale=1./255)"
   ]
  },
  {
   "cell_type": "code",
   "execution_count": 30,
   "metadata": {},
   "outputs": [
    {
     "name": "stdout",
     "output_type": "stream",
     "text": [
      "Found 28709 images belonging to 7 classes.\n"
     ]
    }
   ],
   "source": [
    "# Preprocess all test images\n",
    "train_generator = train_data_gen.flow_from_directory(\n",
    "        r'C:\\Users\\ADRIAN\\Documents\\001.Skripsi\\code\\dataset\\train',\n",
    "        target_size=(48, 48),\n",
    "        batch_size=64,\n",
    "        color_mode=\"grayscale\",\n",
    "        class_mode='categorical')"
   ]
  },
  {
   "cell_type": "code",
   "execution_count": 33,
   "metadata": {},
   "outputs": [],
   "source": [
    "# create model structure\n",
    "emotion_model = Sequential()\n",
    "\n",
    "emotion_model.add(Conv2D(32, kernel_size=(3, 3), activation='relu', input_shape=(48, 48, 1)))\n",
    "emotion_model.add(Conv2D(64, kernel_size=(3, 3), activation='relu'))\n",
    "emotion_model.add(MaxPooling2D(pool_size=(2, 2)))\n",
    "emotion_model.add(Dropout(0.25))\n",
    "\n",
    "emotion_model.add(Conv2D(128, kernel_size=(3, 3), activation='relu'))\n",
    "emotion_model.add(MaxPooling2D(pool_size=(2, 2)))\n",
    "emotion_model.add(Conv2D(128, kernel_size=(3, 3), activation='relu'))\n",
    "emotion_model.add(MaxPooling2D(pool_size=(2, 2)))\n",
    "emotion_model.add(Dropout(0.25))\n",
    "\n",
    "emotion_model.add(Flatten())\n",
    "emotion_model.add(Dense(1024, activation='relu'))\n",
    "emotion_model.add(Dropout(0.5))\n",
    "emotion_model.add(Dense(7, activation='softmax'))\n",
    "\n",
    "cv2.ocl.setUseOpenCL(False)\n",
    "\n",
    "emotion_model.compile(loss='categorical_crossentropy', optimizer=Adam(learning_rate=0.0001, decay=1e-6), metrics=['accuracy'])"
   ]
  },
  {
   "cell_type": "code",
   "execution_count": 40,
   "metadata": {},
   "outputs": [],
   "source": [
    "# save model structure in jason file\n",
    "model_json = emotion_model.to_json()\n",
    "with open(\"emotion_model.json\", \"w\") as json_file:\n",
    "    json_file.write(model_json)"
   ]
  },
  {
   "cell_type": "code",
   "execution_count": 45,
   "metadata": {},
   "outputs": [],
   "source": [
    "# save trained model weight in .h5 file\n",
    "emotion_model.save_weights('emosi_model1.weights.h5')"
   ]
  }
 ],
 "metadata": {
  "kernelspec": {
   "display_name": "base",
   "language": "python",
   "name": "python3"
  },
  "language_info": {
   "codemirror_mode": {
    "name": "ipython",
    "version": 3
   },
   "file_extension": ".py",
   "mimetype": "text/x-python",
   "name": "python",
   "nbconvert_exporter": "python",
   "pygments_lexer": "ipython3",
   "version": "3.11.5"
  }
 },
 "nbformat": 4,
 "nbformat_minor": 2
}
